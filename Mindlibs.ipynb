{
  "nbformat": 4,
  "nbformat_minor": 0,
  "metadata": {
    "colab": {
      "provenance": [],
      "toc_visible": true,
      "authorship_tag": "ABX9TyPS8KPFYQGSC8+BM/2vUa0q",
      "include_colab_link": true
    },
    "kernelspec": {
      "name": "python3",
      "display_name": "Python 3"
    },
    "language_info": {
      "name": "python"
    }
  },
  "cells": [
    {
      "cell_type": "markdown",
      "metadata": {
        "id": "view-in-github",
        "colab_type": "text"
      },
      "source": [
        "<a href=\"https://colab.research.google.com/github/rehanahmed693/project4-assignment1-9/blob/main/Mindlibs.ipynb\" target=\"_parent\"><img src=\"https://colab.research.google.com/assets/colab-badge.svg\" alt=\"Open In Colab\"/></a>"
      ]
    },
    {
      "cell_type": "code",
      "execution_count": 7,
      "metadata": {
        "colab": {
          "base_uri": "https://localhost:8080/"
        },
        "id": "qR6gGyGJ9Mc0",
        "outputId": "ac0d6949-b10f-4b98-f029-5652324006da"
      },
      "outputs": [
        {
          "output_type": "stream",
          "name": "stdout",
          "text": [
            "Enter Your Name..rehan\n",
            "Enter Your City Name..hh\n",
            "Enter Your Verb..hh\n",
            "Enter Your Animal Name..ss\n",
            "Enter Your Adjective..hhh\n",
            "one day my friend rehan went to hh,he saw a hhh ss hh in the city.\n"
          ]
        }
      ],
      "source": [
        "def Mindlibs():\n",
        "  name = str(input (\"Enter Your Name..\"))\n",
        "  city = str(input (\"Enter Your City Name..\"))\n",
        "  verb = str(input (\"Enter Your Verb..\" ))\n",
        "  animal = str(input (\"Enter Your Animal Name..\"))\n",
        "  adjective = str(input (\"Enter Your Adjective..\"))\n",
        "  story = str (f\"one day my friend {name} went to {city},he saw a {adjective} {animal} {verb} in the city.\")\n",
        "  print(story)\n",
        "\n",
        "Mindlibs()\n"
      ]
    }
  ]
}